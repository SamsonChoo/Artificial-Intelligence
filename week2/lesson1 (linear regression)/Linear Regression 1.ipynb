{
 "cells": [
  {
   "cell_type": "code",
   "execution_count": 1,
   "metadata": {},
   "outputs": [],
   "source": [
    "import numpy as np, os, sys\n",
    "\n",
    "import matplotlib as mpl #patch-wise similarities, droi images"
   ]
  },
  {
   "cell_type": "code",
   "execution_count": 35,
   "metadata": {},
   "outputs": [],
   "source": [
    "def rndsplit(x,y,numtr):\n",
    "\n",
    "  inds=np.arange(y.size)\n",
    "  np.random.shuffle(inds)\n",
    "\n",
    "  xtr=x[inds[0:numtr],:]\n",
    "  ytr=y[inds[0:numtr]]\n",
    "\n",
    "  xv=x[inds[numtr:],:]\n",
    "  yv=y[inds[numtr:]]\n",
    "\n",
    "  return xtr,ytr,xv,yv\n",
    "\n",
    "def gendata(numtotal):\n",
    "  \n",
    "  w1=0.5\n",
    "  w2=-2\n",
    "  xtr,ytr = datagen2d(w1=w1,w2=w2,eps=0.8,num= int( numtotal) ) #numtotal\n",
    "  xv,yv = datagen2d(w1=w1,w2=w2,eps=0.8,num= 3000 ) #fix 3k test samples\n",
    "  #xtr,ytr,xv,yv = rndsplit(x,y,numtr=int( 0.7*numtotal))\n",
    "  return xtr,ytr,xv,yv,w1,w2\n",
    "\n",
    "def gendata2(numtotal):\n",
    "  \n",
    "  w1=0.5\n",
    "  w2=-2\n",
    "  xtr,ytr = datagen2d(w1=w1,w2=w2,eps=0.8,num= int( 0.7*numtotal) ) #70% of numtotal\n",
    "  xv,yv = datagen2d(w1=w1,w2=w2,eps=0.8,num= int( 0.3*numtotal) ) #30 % of numtotal\n",
    "  #xtr,ytr,xv,yv = rndsplit(x,y,numtr=int( 0.7*numtotal))\n",
    "  return xtr,ytr,xv,yv,w1,w2\n",
    "\n",
    "def linreg_apply(xv,w):\n",
    "  return np.dot(xv,w)\n",
    "\n",
    "def mse(ypred,ytrue):\n",
    "  e=np.mean( (ypred-ytrue)**2 )\n",
    "  return e\n",
    "\n",
    "\n",
    "def run1(xtr,ytr,xv,yv,w1,w2,C):\n",
    "\n",
    "  w=linreg_train(xtr,ytr,C=C) # 0.1\n",
    "\n",
    "  wtrue=np.asarray([w1,w2])\n",
    "\n",
    "  print('w',w, \"\\n\"+'true w', [w1,w2], \"\\n\"+'diff', np.dot((w-wtrue).T,w-wtrue))\n",
    "\n",
    "  ypred=linreg_apply(xv,w)\n",
    "  e=mse(ypred,yv)\n",
    "\n",
    "  print('mse',e)"
   ]
  },
  {
   "cell_type": "code",
   "execution_count": 36,
   "metadata": {},
   "outputs": [],
   "source": [
    "import math\n",
    "from random import gauss\n",
    "\n",
    "def datagen2d(w1,w2,eps,num):\n",
    "  x=np.random.normal(size=(num,2))\n",
    "  y=[]\n",
    "  for i in range(num):\n",
    "    y.append(x[i][0]*w1 + x[i][1]*w2 + gauss(0,math.sqrt(eps)))\n",
    "  y=np.array(y)\n",
    "  \n",
    "  print(\"x.shape, y.shape\")\n",
    "  print(x.shape,y.shape)\n",
    "\n",
    "  return x,y"
   ]
  },
  {
   "cell_type": "code",
   "execution_count": 37,
   "metadata": {},
   "outputs": [
    {
     "name": "stdout",
     "output_type": "stream",
     "text": [
      "x.shape, y.shape\n",
      "(3, 2) (3,)\n"
     ]
    },
    {
     "data": {
      "text/plain": [
       "(array([[-1.57553194,  0.16430386],\n",
       "        [ 2.29895082, -0.7172666 ],\n",
       "        [-1.099201  , -0.46904563]]),\n",
       " array([-0.36488413,  3.6620351 , -1.87816715]))"
      ]
     },
     "execution_count": 37,
     "metadata": {},
     "output_type": "execute_result"
    }
   ],
   "source": [
    "datagen2d(2,2,2,3)"
   ]
  },
  {
   "cell_type": "code",
   "execution_count": 38,
   "metadata": {},
   "outputs": [],
   "source": [
    "def linreg_train(xtr,ytr,C):\n",
    "  xtrans = np.transpose(xtr)\n",
    "  w = np.matmul(np.matmul(np.linalg.inv(np.matmul(xtrans,xtr)+C*np.identity(2)),xtrans),ytr)\n",
    "  return w"
   ]
  },
  {
   "cell_type": "code",
   "execution_count": 39,
   "metadata": {},
   "outputs": [
    {
     "name": "stdout",
     "output_type": "stream",
     "text": [
      "x.shape, y.shape\n",
      "(50, 2) (50,)\n",
      "x.shape, y.shape\n",
      "(3000, 2) (3000,)\n",
      "w [ 0.44886081 -1.86765663] \n",
      "true w [0.5, -2] \n",
      "diff 0.020129984577636605\n",
      "mse 0.8198444979409545\n",
      "\n",
      "\n",
      "x.shape, y.shape\n",
      "(1000, 2) (1000,)\n",
      "x.shape, y.shape\n",
      "(3000, 2) (3000,)\n",
      "w [ 0.52233472 -1.97044097] \n",
      "true w [0.5, -2] \n",
      "diff 0.0013725755879767203\n",
      "mse 0.8141646003542472\n"
     ]
    }
   ],
   "source": [
    "xtr,ytr,xv,yv,w1,w2=gendata(50)\n",
    "run1(xtr,ytr,xv,yv,w1,w2,1e-3)\n",
    "\n",
    "print(\"\\n\")\n",
    "\n",
    "xtr,ytr,xv,yv,w1,w2=gendata(1000)  \n",
    "run1(xtr,ytr,xv,yv,w1,w2,1e-3)"
   ]
  },
  {
   "cell_type": "code",
   "execution_count": null,
   "metadata": {},
   "outputs": [],
   "source": []
  }
 ],
 "metadata": {
  "kernelspec": {
   "display_name": "Python 3",
   "language": "python",
   "name": "python3"
  },
  "language_info": {
   "codemirror_mode": {
    "name": "ipython",
    "version": 3
   },
   "file_extension": ".py",
   "mimetype": "text/x-python",
   "name": "python",
   "nbconvert_exporter": "python",
   "pygments_lexer": "ipython3",
   "version": "3.5.2"
  }
 },
 "nbformat": 4,
 "nbformat_minor": 2
}
