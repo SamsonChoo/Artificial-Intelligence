{
 "cells": [
  {
   "cell_type": "code",
   "execution_count": 2,
   "metadata": {},
   "outputs": [],
   "source": [
    "import os,sys\n",
    "\n",
    "import numpy as np\n",
    "\n",
    "import torch\n",
    "\n",
    "import time"
   ]
  },
  {
   "cell_type": "code",
   "execution_count": 3,
   "metadata": {},
   "outputs": [],
   "source": [
    "def forloopdists(feats1,feats2):\n",
    "    dist=np.empty((len(feats1),len(feats2)))\n",
    "    for i,feat1 in enumerate(feats1):\n",
    "        for j,feat2 in enumerate(feats2):\n",
    "            mindtot=0    #total of minimum\n",
    "            for d in range(30):\n",
    "                mind = min(feat1[d],feat2[d])    #minimum between comparison of each d\n",
    "                mindtot += mind\n",
    "            dist[i][j]=mindtot\n",
    "    return dist\n",
    "\n"
   ]
  },
  {
   "cell_type": "code",
   "execution_count": 4,
   "metadata": {},
   "outputs": [],
   "source": [
    "def numpydists(feats1,feats2):\n",
    "\n",
    "    D = len(feats1)\n",
    "    L = len(feats2)\n",
    "    f1 = feats1.reshape(D,1,30)\n",
    "    f2 = feats2.reshape(1,L,30)\n",
    "    dist = np.sum(np.minimum(f1,f2), axis = 2)\n",
    "\n",
    "    return dist"
   ]
  },
  {
   "cell_type": "code",
   "execution_count": 8,
   "metadata": {},
   "outputs": [],
   "source": [
    "def pytorchdists(feats1,feats2,device):\n",
    "    \n",
    "    D = len(feats1)\n",
    "    L = len(feats2)\n",
    "    f1 = feats1.reshape(D,1,30)\n",
    "    f2 = feats2.reshape(1,L,30)\n",
    "    dist=torch.sum(torch.tensor(np.minimum(f1,f2)))\n",
    "    return dist.cpu().numpy()"
   ]
  },
  {
   "cell_type": "code",
   "execution_count": 9,
   "metadata": {},
   "outputs": [],
   "source": [
    "def run():\n",
    "\n",
    "  ########\n",
    "  ##\n",
    "  ## if you have less than 8 gbyte, then reduce from 250k\n",
    "  ##\n",
    "  ###############\n",
    "\n",
    "  numdata1=2500\n",
    "  numdata2=500\n",
    "  dims=30\n",
    "\n",
    "  # genarate some random histogram data\n",
    "  feats1=np.random.normal(size=(numdata1,dims))**2\n",
    "  feats2=np.random.normal(size=(numdata2,dims))**2\n",
    "\n",
    "  feats1=feats1/np.sum(feats1,axis=1)[:,np.newaxis]\n",
    "  feats2=feats2/np.sum(feats2,axis=1)[:,np.newaxis]\n",
    "\n",
    "  \n",
    "  since = time.time()\n",
    "  dists0=forloopdists(feats1,feats2)\n",
    "  time_elapsed=float(time.time()) - float(since)\n",
    "  print('for loop, Comp complete in {:.3f}s'.format( time_elapsed ))\n",
    "  \n",
    "\n",
    "\n",
    "\n",
    "  device=torch.device('cpu')\n",
    "  since = time.time()\n",
    "\n",
    "  dists1=pytorchdists(feats1,feats2,device)\n",
    "\n",
    "\n",
    "  time_elapsed=float(time.time()) - float(since)\n",
    "\n",
    "  print('pytorch, Comp complete in {:.3f}s'.format( time_elapsed ))\n",
    "  print(dists1.shape)\n",
    "\n",
    "  #print('df0',np.max(np.abs(dists1-dists0)))\n",
    "\n",
    "\n",
    "  since = time.time()\n",
    "\n",
    "  dists2=numpydists(feats1,feats2)\n",
    "\n",
    "\n",
    "  time_elapsed=float(time.time()) - float(since)\n",
    "\n",
    "  print('numpy, Comp complete in {:.3f}s'.format( time_elapsed ))\n",
    "\n",
    "  print(dists2.shape)\n",
    "\n",
    "  print('df',np.max(np.abs(dists1-dists2)))\n"
   ]
  },
  {
   "cell_type": "code",
   "execution_count": 10,
   "metadata": {},
   "outputs": [
    {
     "name": "stdout",
     "output_type": "stream",
     "text": [
      "for loop, Comp complete in 20.948s\n",
      "pytorch, Comp complete in 1.846s\n",
      "()\n",
      "numpy, Comp complete in 0.688s\n",
      "(2500, 500)\n",
      "df 468147.6061608823\n"
     ]
    }
   ],
   "source": [
    "run()"
   ]
  },
  {
   "cell_type": "code",
   "execution_count": null,
   "metadata": {},
   "outputs": [],
   "source": []
  }
 ],
 "metadata": {
  "kernelspec": {
   "display_name": "Python 3",
   "language": "python",
   "name": "python3"
  },
  "language_info": {
   "codemirror_mode": {
    "name": "ipython",
    "version": 3
   },
   "file_extension": ".py",
   "mimetype": "text/x-python",
   "name": "python",
   "nbconvert_exporter": "python",
   "pygments_lexer": "ipython3",
   "version": "3.5.2"
  }
 },
 "nbformat": 4,
 "nbformat_minor": 2
}
