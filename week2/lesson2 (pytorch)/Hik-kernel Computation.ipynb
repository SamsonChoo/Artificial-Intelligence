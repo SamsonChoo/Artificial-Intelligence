{
 "cells": [
  {
   "cell_type": "code",
   "execution_count": 1,
   "metadata": {},
   "outputs": [],
   "source": [
    "import os,sys\n",
    "\n",
    "import numpy as np\n",
    "\n",
    "import torch\n",
    "\n",
    "import time"
   ]
  },
  {
   "cell_type": "code",
   "execution_count": 2,
   "metadata": {},
   "outputs": [],
   "source": [
    "def forloopdists(feats1,feats2):\n",
    "    dist=np.empty((len(feats1),len(feats2)))\n",
    "    for i,feat1 in enumerate(feats1):\n",
    "        for j,feat2 in enumerate(feats2):\n",
    "            mindtot=0    #total of minimum\n",
    "            for d in range(30):\n",
    "                mind = min(feat1[d],feat2[d])    #minimum between comparison of each d\n",
    "                mindtot += mind\n",
    "            dist[i][j]=mindtot\n",
    "    return dist\n",
    "\n"
   ]
  },
  {
   "cell_type": "code",
   "execution_count": 3,
   "metadata": {},
   "outputs": [],
   "source": [
    "def numpydists(feats1,feats2):\n",
    "\n",
    "    D = len(feats1)\n",
    "    L = len(feats2)\n",
    "    f1 = feats1.reshape(D,1,30)\n",
    "    f2 = feats2.reshape(1,L,30)\n",
    "    dist = np.sum(np.minimum(f1,f2), axis = 2)\n",
    "\n",
    "    return dist"
   ]
  },
  {
   "cell_type": "code",
   "execution_count": 30,
   "metadata": {},
   "outputs": [],
   "source": [
    "def pytorchdists(feats1,feats2,device):\n",
    "    f1 = torch.unsqueeze(torch.tensor(feats1),1)\n",
    "    f2 = torch.unsqueeze(torch.tensor(feats2),0)\n",
    "    dist=torch.sum((torch.min(f1,f2)),2)\n",
    "    return dist.cpu().numpy()"
   ]
  },
  {
   "cell_type": "code",
   "execution_count": 8,
   "metadata": {},
   "outputs": [],
   "source": [
    "def run():\n",
    "\n",
    "  ########\n",
    "  ##\n",
    "  ## if you have less than 8 gbyte, then reduce from 250k\n",
    "  ##\n",
    "  ###############\n",
    "\n",
    "  numdata1=2500\n",
    "  numdata2=500\n",
    "  dims=30\n",
    "\n",
    "  # genarate some random histogram data\n",
    "  feats1=np.random.normal(size=(numdata1,dims))**2\n",
    "  feats2=np.random.normal(size=(numdata2,dims))**2\n",
    "\n",
    "  feats1=feats1/np.sum(feats1,axis=1)[:,np.newaxis]\n",
    "  feats2=feats2/np.sum(feats2,axis=1)[:,np.newaxis]\n",
    "\n",
    "  \n",
    "  since = time.time()\n",
    "  dists0=forloopdists(feats1,feats2)\n",
    "  time_elapsed=float(time.time()) - float(since)\n",
    "  print('for loop, Comp complete in {:.3f}s'.format( time_elapsed ))\n",
    "  \n",
    "\n",
    "\n",
    "\n",
    "  device=torch.device('cpu')\n",
    "  since = time.time()\n",
    "\n",
    "  dists1=pytorchdists(feats1,feats2,device)\n",
    "\n",
    "\n",
    "  time_elapsed=float(time.time()) - float(since)\n",
    "\n",
    "  print('pytorch, Comp complete in {:.3f}s'.format( time_elapsed ))\n",
    "  print(dists1.shape)\n",
    "\n",
    "  print('df0',np.max(np.abs(dists1-dists0)))\n",
    "\n",
    "\n",
    "  since = time.time()\n",
    "\n",
    "  dists2=numpydists(feats1,feats2)\n",
    "\n",
    "\n",
    "  time_elapsed=float(time.time()) - float(since)\n",
    "\n",
    "  print('numpy, Comp complete in {:.3f}s'.format( time_elapsed ))\n",
    "\n",
    "  print(dists2.shape)\n",
    "\n",
    "  print('df',np.max(np.abs(dists1-dists2)))\n"
   ]
  },
  {
   "cell_type": "code",
   "execution_count": 29,
   "metadata": {},
   "outputs": [
    {
     "name": "stdout",
     "output_type": "stream",
     "text": [
      "for loop, Comp complete in 108.048s\n",
      "pytorch, Comp complete in 1.394s\n",
      "(2500, 500)\n",
      "df0 2.220446049250313e-16\n",
      "numpy, Comp complete in 2.417s\n",
      "(2500, 500)\n",
      "df 3.3306690738754696e-16\n"
     ]
    }
   ],
   "source": [
    "run()"
   ]
  },
  {
   "cell_type": "code",
   "execution_count": 31,
   "metadata": {},
   "outputs": [
    {
     "ename": "AssertionError",
     "evalue": "\nFound no NVIDIA driver on your system. Please check that you\nhave an NVIDIA GPU and installed a driver from\nhttp://www.nvidia.com/Download/index.aspx",
     "output_type": "error",
     "traceback": [
      "\u001b[0;31m---------------------------------------------------------------------------\u001b[0m",
      "\u001b[0;31mAssertionError\u001b[0m                            Traceback (most recent call last)",
      "\u001b[0;32m<ipython-input-31-c45cf2732d80>\u001b[0m in \u001b[0;36m<module>\u001b[0;34m()\u001b[0m\n\u001b[1;32m     11\u001b[0m \u001b[0mdevice\u001b[0m\u001b[0;34m=\u001b[0m\u001b[0mtorch\u001b[0m\u001b[0;34m.\u001b[0m\u001b[0mdevice\u001b[0m\u001b[0;34m(\u001b[0m\u001b[0;34m'cpu'\u001b[0m\u001b[0;34m)\u001b[0m\u001b[0;34m\u001b[0m\u001b[0m\n\u001b[1;32m     12\u001b[0m \u001b[0;34m\u001b[0m\u001b[0m\n\u001b[0;32m---> 13\u001b[0;31m \u001b[0mdists1\u001b[0m\u001b[0;34m=\u001b[0m\u001b[0mpytorchdists\u001b[0m\u001b[0;34m(\u001b[0m\u001b[0mfeats1\u001b[0m\u001b[0;34m,\u001b[0m\u001b[0mfeats2\u001b[0m\u001b[0;34m,\u001b[0m\u001b[0mdevice\u001b[0m\u001b[0;34m)\u001b[0m\u001b[0;34m\u001b[0m\u001b[0m\n\u001b[0m\u001b[1;32m     14\u001b[0m \u001b[0mdists2\u001b[0m\u001b[0;34m=\u001b[0m\u001b[0mnumpydists\u001b[0m\u001b[0;34m(\u001b[0m\u001b[0mfeats1\u001b[0m\u001b[0;34m,\u001b[0m\u001b[0mfeats2\u001b[0m\u001b[0;34m)\u001b[0m\u001b[0;34m\u001b[0m\u001b[0m\n\u001b[1;32m     15\u001b[0m \u001b[0mprint\u001b[0m\u001b[0;34m(\u001b[0m\u001b[0;34m'df'\u001b[0m\u001b[0;34m,\u001b[0m\u001b[0mnp\u001b[0m\u001b[0;34m.\u001b[0m\u001b[0mmax\u001b[0m\u001b[0;34m(\u001b[0m\u001b[0mnp\u001b[0m\u001b[0;34m.\u001b[0m\u001b[0mabs\u001b[0m\u001b[0;34m(\u001b[0m\u001b[0mdists1\u001b[0m\u001b[0;34m-\u001b[0m\u001b[0mdists2\u001b[0m\u001b[0;34m)\u001b[0m\u001b[0;34m)\u001b[0m\u001b[0;34m)\u001b[0m\u001b[0;34m\u001b[0m\u001b[0m\n",
      "\u001b[0;32m<ipython-input-30-22410fdb856a>\u001b[0m in \u001b[0;36mpytorchdists\u001b[0;34m(feats1, feats2, device)\u001b[0m\n\u001b[1;32m      3\u001b[0m     \u001b[0mf2\u001b[0m \u001b[0;34m=\u001b[0m \u001b[0mtorch\u001b[0m\u001b[0;34m.\u001b[0m\u001b[0munsqueeze\u001b[0m\u001b[0;34m(\u001b[0m\u001b[0mtorch\u001b[0m\u001b[0;34m.\u001b[0m\u001b[0mtensor\u001b[0m\u001b[0;34m(\u001b[0m\u001b[0mfeats2\u001b[0m\u001b[0;34m)\u001b[0m\u001b[0;34m,\u001b[0m\u001b[0;36m0\u001b[0m\u001b[0;34m)\u001b[0m\u001b[0;34m\u001b[0m\u001b[0m\n\u001b[1;32m      4\u001b[0m     \u001b[0mdist\u001b[0m\u001b[0;34m=\u001b[0m\u001b[0mtorch\u001b[0m\u001b[0;34m.\u001b[0m\u001b[0msum\u001b[0m\u001b[0;34m(\u001b[0m\u001b[0;34m(\u001b[0m\u001b[0mtorch\u001b[0m\u001b[0;34m.\u001b[0m\u001b[0mmin\u001b[0m\u001b[0;34m(\u001b[0m\u001b[0mf1\u001b[0m\u001b[0;34m,\u001b[0m\u001b[0mf2\u001b[0m\u001b[0;34m)\u001b[0m\u001b[0;34m)\u001b[0m\u001b[0;34m,\u001b[0m\u001b[0;36m2\u001b[0m\u001b[0;34m)\u001b[0m\u001b[0;34m\u001b[0m\u001b[0m\n\u001b[0;32m----> 5\u001b[0;31m     \u001b[0;32mreturn\u001b[0m \u001b[0mdist\u001b[0m\u001b[0;34m.\u001b[0m\u001b[0mcuda\u001b[0m\u001b[0;34m(\u001b[0m\u001b[0;34m)\u001b[0m\u001b[0;34m.\u001b[0m\u001b[0mnumpy\u001b[0m\u001b[0;34m(\u001b[0m\u001b[0;34m)\u001b[0m\u001b[0;34m\u001b[0m\u001b[0m\n\u001b[0m",
      "\u001b[0;32m~/.local/lib/python3.5/site-packages/torch/cuda/__init__.py\u001b[0m in \u001b[0;36m_lazy_init\u001b[0;34m()\u001b[0m\n\u001b[1;32m    160\u001b[0m         raise RuntimeError(\n\u001b[1;32m    161\u001b[0m             \"Cannot re-initialize CUDA in forked subprocess. \" + msg)\n\u001b[0;32m--> 162\u001b[0;31m     \u001b[0m_check_driver\u001b[0m\u001b[0;34m(\u001b[0m\u001b[0;34m)\u001b[0m\u001b[0;34m\u001b[0m\u001b[0m\n\u001b[0m\u001b[1;32m    163\u001b[0m     \u001b[0mtorch\u001b[0m\u001b[0;34m.\u001b[0m\u001b[0m_C\u001b[0m\u001b[0;34m.\u001b[0m\u001b[0m_cuda_init\u001b[0m\u001b[0;34m(\u001b[0m\u001b[0;34m)\u001b[0m\u001b[0;34m\u001b[0m\u001b[0m\n\u001b[1;32m    164\u001b[0m     \u001b[0m_cudart\u001b[0m \u001b[0;34m=\u001b[0m \u001b[0m_load_cudart\u001b[0m\u001b[0;34m(\u001b[0m\u001b[0;34m)\u001b[0m\u001b[0;34m\u001b[0m\u001b[0m\n",
      "\u001b[0;32m~/.local/lib/python3.5/site-packages/torch/cuda/__init__.py\u001b[0m in \u001b[0;36m_check_driver\u001b[0;34m()\u001b[0m\n\u001b[1;32m     80\u001b[0m \u001b[0mFound\u001b[0m \u001b[0mno\u001b[0m \u001b[0mNVIDIA\u001b[0m \u001b[0mdriver\u001b[0m \u001b[0mon\u001b[0m \u001b[0myour\u001b[0m \u001b[0msystem\u001b[0m\u001b[0;34m.\u001b[0m \u001b[0mPlease\u001b[0m \u001b[0mcheck\u001b[0m \u001b[0mthat\u001b[0m \u001b[0myou\u001b[0m\u001b[0;34m\u001b[0m\u001b[0m\n\u001b[1;32m     81\u001b[0m \u001b[0mhave\u001b[0m \u001b[0man\u001b[0m \u001b[0mNVIDIA\u001b[0m \u001b[0mGPU\u001b[0m \u001b[0;32mand\u001b[0m \u001b[0minstalled\u001b[0m \u001b[0ma\u001b[0m \u001b[0mdriver\u001b[0m \u001b[0;32mfrom\u001b[0m\u001b[0;34m\u001b[0m\u001b[0m\n\u001b[0;32m---> 82\u001b[0;31m http://www.nvidia.com/Download/index.aspx\"\"\")\n\u001b[0m\u001b[1;32m     83\u001b[0m         \u001b[0;32melse\u001b[0m\u001b[0;34m:\u001b[0m\u001b[0;34m\u001b[0m\u001b[0m\n\u001b[1;32m     84\u001b[0m             \u001b[0;31m# TODO: directly link to the alternative bin that needs install\u001b[0m\u001b[0;34m\u001b[0m\u001b[0;34m\u001b[0m\u001b[0m\n",
      "\u001b[0;31mAssertionError\u001b[0m: \nFound no NVIDIA driver on your system. Please check that you\nhave an NVIDIA GPU and installed a driver from\nhttp://www.nvidia.com/Download/index.aspx"
     ]
    }
   ],
   "source": [
    "numdata1=2500\n",
    "numdata2=500\n",
    "dims=30\n",
    "\n",
    "# genarate some random histogram data\n",
    "feats1=np.random.normal(size=(numdata1,dims))**2\n",
    "feats2=np.random.normal(size=(numdata2,dims))**2\n",
    "\n",
    "feats1=feats1/np.sum(feats1,axis=1)[:,np.newaxis]\n",
    "feats2=feats2/np.sum(feats2,axis=1)[:,np.newaxis]\n",
    "device=torch.device('cpu')\n",
    "\n",
    "dists1=pytorchdists(feats1,feats2,device)\n",
    "dists2=numpydists(feats1,feats2)\n",
    "print('df',np.max(np.abs(dists1-dists2)))"
   ]
  },
  {
   "cell_type": "code",
   "execution_count": null,
   "metadata": {},
   "outputs": [],
   "source": []
  }
 ],
 "metadata": {
  "kernelspec": {
   "display_name": "Python 3",
   "language": "python",
   "name": "python3"
  },
  "language_info": {
   "codemirror_mode": {
    "name": "ipython",
    "version": 3
   },
   "file_extension": ".py",
   "mimetype": "text/x-python",
   "name": "python",
   "nbconvert_exporter": "python",
   "pygments_lexer": "ipython3",
   "version": "3.5.2"
  }
 },
 "nbformat": 4,
 "nbformat_minor": 2
}
